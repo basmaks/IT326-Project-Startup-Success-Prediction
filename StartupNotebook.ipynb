{
 "cells": [
  {
   "cell_type": "code",
   "execution_count": null,
   "id": "1bd8b0b3",
   "metadata": {},
   "outputs": [],
   "source": [
    "### The Goal of Collecting this Dataset\n",
    "  \n",
    "Our goal of collecting this dataset is to build a model capable of predicting the potential success of startups.\n",
    "\n",
    "### The Source of the Dataset\n",
    "\n",
    "Access the dataset on Kaggle through the following link: https://www.kaggle.com/datasets/manishkc06/startup-success-prediction\n",
    "\n",
    "### General Information about the Dataset\n",
    "\n",
    "**Number of attributes:** 50 column\n",
    "**Number of objects:** 925 row\n",
    "**Class label:** status (\"acquired\" --> successful company, or \"closed\" --> unsuccessful company)\n",
    "**Types of attributes:** Nominal, Numerical, Binary\n",
    "\n",
    "| Attribute Name           | Description                                                  | Data Type | Possible Values                                 |\n",
    "| ------------------------ | ------------------------------------------------------------ | --------- | ----------------------------------------------- |\n",
    "| Unnamed: 0               | Method of numbering companies.                               | Nominal   | 1 to 1153                                       |\n",
    "| state_code               | The code of the state the startup was founded in.            | Nominal   | Different state codes. Like CA, AZ              |\n",
    "| latitude                 | The latitude of the startup headquarters.                    | Numerical | 90 to -90                                       |\n",
    "| longitude                | The longitude of the startup headquarters.                   | Numerical | 0 to 180                                        |\n",
    "| zip_code                 | The zip code of the city the startup was founded in.         | Nominal   | Different random city zipcodes                  |\n",
    "| id                       | N/A                                                          | Nominal   | Data in unrecognizable format c:number          |\n",
    "| city                     | The name of the city the startup was founded in.             | Nominal   | Different cities. Like Palo Alto, Mountain View |\n",
    "| Unnamed: 6               | The address of the headquarters.                             | Nominal   | Different addresses. Like San Diego CA 92121    |\n",
    "| name                     | The name of the startup.                                     | Nominal   | Different names. Like Qsecure, drop.io          |\n",
    "| labels                   | N/A                                                          | Binary    | 0 or 1                                          |\n",
    "| founded_at               | Startup founding date.                                       | Nominal | 01 1984 to 09 2010                              |\n",
    "| closed_at                | Startup closing date.                                        | Nominal | 01 2001 to 08 2013                              |\n",
    "| first_funding_at         | Startup first funding date.                                  | Nominal | 01 2000 to 09 2009                              |\n",
    "| last_funding_at          | Startup last funding date.                                   | Nominal | 01 2001 to 09 2011                              |\n",
    "| age_first_funding_year   | The average age of startup when received first funding.      | Numerical | 0 to 21                                         |\n",
    "| age_last_funding_year    | The average age of startup when received last funding.       | Numerical | 0 to 21                                         |\n",
    "| age_first_milestone_year | The average age of startup when acheived first milestone.    | Numerical | 0 to 24                                         |\n",
    "| age_last_milestone_year  | The average age of startup when acheived last milestone.     | Numerical | 0 to 24                                         |\n",
    "| relationships            | N/A                                                          | Numerical | 0 to 63                                         |\n",
    "| funding_rounds           | The number of funding rounds the startup went through.       | Numerical | 1 to 10                                         |\n",
    "| funding_total_usd        | The total number of money in USD raised by the startup.      | Numerical | 11000 to 5700000000                             |\n",
    "| milestones               | The total number of milestones achieved by the startup.      | Numerical | 0 to 8                                          |\n",
    "| state_code.1             | The code of the state the startup was founded in.            | Nominal   | Different state codes. Like CA, AZ              |\n",
    "| is_CA                    | If the startup was founded in California.                    | Binary    | 0 or 1                                          |\n",
    "| is_NY                    | If the startup was founded in New York.                      | Binary    | 0 or 1                                          |\n",
    "| is_MA                    | If the startup was founded in Massachusetts.                 | Binary    | 0 or 1                                          |\n",
    "| is_TX                    | If the startup was founded in Texas.                         | Binary    | 0 or 1                                          |\n",
    "| is_otherstate            | If the startup was founded in a state other than the listed. | Binary    | 0 or 1                                          |\n",
    "| category_code            | The sector of the startup.                                   | Nominal   | Different categories. Like biotech, mobile   |\n",
    "| is_software              | If the startup sector is software.                           | Binary    | 0 or 1                                          |\n",
    "| is_web                   | If the startup sector is web.                                | Binary    | 0 or 1                                          |\n",
    "| is_mobile                | If the startup sector is mobile.                             | Binary    | 0 or 1                                          |\n",
    "| is_enterprise            | If the startup sector is enterprise.                         | Binary    | 0 or 1                                          |\n",
    "| is_advertising           | If the startup sector is advertising.                        | Binary    | 0 or 1                                          |\n",
    "| is_gamesvideo            | If the startup sector is video games.                        | Binary    | 0 or 1                                          |\n",
    "| is_ecommerce             | If the startup sector is ecommerce.                          | Binary    | 0 or 1                                          |\n",
    "| is_biotech               | If the startup sector is biotech.                            | Binary    | 0 or 1                                          |\n",
    "| is_consulting            | If the startup sector is consulting.                         | Binary    | 0 or 1                                          |\n",
    "| is_othercategory         | If the startup sector is any other category that the listed. | Binary    | 0 or 1                                          |\n",
    "| object_id                | N/A                                                          | Nominal   | Data in unrecognizable format c:number          |\n",
    "| has_VC                   | If the startup has a venture capitalist\\* investor.          | Binary    | 0 or 1                                          |\n",
    "| has_angel                | If the startup has an angel\\*\\* investor.                    | Binary    | 0 or 1                                          |\n",
    "| has_roundA               | If the startup went through a series A funding round.        | Binary    | 0 or 1                                          |\n",
    "| has_roundB               | If the startup went through a series B funding round.        | Binary    | 0 or 1                                          |\n",
    "| has_roundC               | If the startup went through a series C funding round.        | Binary    | 0 or 1                                          |\n",
    "| has_roundD               | If the startup went through a series D funding round.        | Binary    | 0 or 1                                          |\n",
    "| avg_participants         | The average number of participants in the startup.           | Binary    | 0 or 1                                          |\n",
    "| is_top500                | If the startup is a top 500 company.                         | Binary    | 0 or 1                                          |\n",
    "| status                   | The acquisition status of the startup.                       | Binary    | \"acquired\" or \"closed\"                          |\n",
    "\n",
    "***VC** stands for Venture Capitalist. Which is a type of investor that invests the money of a venture capital firm into small startup companies.\n",
    "\n",
    "\\*\\***Angel** stands for Angel Investor Which is a type of investor that invests their personal money  into small startup companies in exchange for a percentage in the company."
   ]
  },
  {
   "cell_type": "code",
   "execution_count": null,
   "id": "2a7869d6",
   "metadata": {},
   "outputs": [],
   "source": [
    "# Specify the dataset path\n",
    "dataset <- read.csv('/Users/basmaalsulaim/Desktop/Original Dataset/Original_StartupData.csv')"
   ]
  },
  {
   "cell_type": "code",
   "execution_count": null,
   "id": "cb22f5bf",
   "metadata": {},
   "outputs": [],
   "source": [
    "# View the first few rows of the dataset\n",
    "head(dataset)"
   ]
  },
  {
   "cell_type": "code",
   "execution_count": null,
   "id": "d8c816c1",
   "metadata": {},
   "outputs": [],
   "source": [
    "# View the last few rows of the dataset\n",
    "tail(dataset)"
   ]
  },
  {
   "cell_type": "code",
   "execution_count": null,
   "id": "72a2a99b",
   "metadata": {},
   "outputs": [],
   "source": [
    "# Summarize all data\n",
    "summary(dataset)"
   ]
  }
 ],
 "metadata": {
  "kernelspec": {
   "display_name": "R",
   "language": "R",
   "name": "ir"
  }
 },
 "nbformat": 4,
 "nbformat_minor": 5
}
