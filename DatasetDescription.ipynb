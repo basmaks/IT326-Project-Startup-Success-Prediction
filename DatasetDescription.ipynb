{
 "cells": [
  {
   "cell_type": "code",
   "execution_count": null,
   "id": "830621c8",
   "metadata": {},
   "outputs": [],
   "source": [
    "***\n",
    "  \"Dataset Description\"\n",
    "***\n",
    "  \n",
    "  ## Dataset Goal \n",
    "  \n",
    "Our goal of collecting this dataset is to build a model capable of predicting \n",
    "the potential success of startups.\n",
    "\n",
    "## Dataset Source \n",
    "\n",
    "https://www.kaggle.com/datasets/manishkc06/startup-success-prediction\n",
    "\n",
    "## General Information \n",
    "\n",
    "Number of objects: 925 rows\n",
    "\n",
    "Number of attributes: 20 columns\n",
    "1.name\n",
    "2.city\n",
    "3.founded_at\n",
    "4.close_at\n",
    "5.first_funding_at\n",
    "6.last_funding_at\n",
    "7.age_first_funding_year\n",
    "8.age_first_milestone_year\n",
    "9.funding_rounds\n",
    "10.funding_total_usd\n",
    "11.category_code\n",
    "12.has_VC\n",
    "13.has_angel\n",
    "14.has_roundA\n",
    "15.has_roundB\n",
    "16.has_roundC\n",
    "17.has_roundD\n",
    "18.avg_participants\n",
    "19.is_top500\n",
    "20.status\n",
    "\n",
    "In this dataset, the class label we are focusing on is \"status,\" \n",
    "which distinguishes between successful startups (labeled as \"acquired\") \n",
    "and unsuccessful ones (labeled as \"closed\")."
   ]
  }
 ],
 "metadata": {
  "kernelspec": {
   "display_name": "R",
   "language": "R",
   "name": "ir"
  }
 },
 "nbformat": 4,
 "nbformat_minor": 5
}
