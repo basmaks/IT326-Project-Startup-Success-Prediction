{
 "cells": [
  {
   "cell_type": "code",
   "execution_count": 1,
   "id": "6e211a8e",
   "metadata": {},
   "outputs": [
    {
     "ename": "ERROR",
     "evalue": "Error in parse(text = x, srcfile = src): <text>:1:1: unexpected '^'\n1: **\n    ^\n",
     "output_type": "error",
     "traceback": [
      "Error in parse(text = x, srcfile = src): <text>:1:1: unexpected '^'\n1: **\n    ^\nTraceback:\n"
     ]
    }
   ],
   "source": [
    "***\n",
    "  \"Dataset Description\"\n",
    "***\n",
    "  \n",
    "    ## The Goal of Collecting this Dataset  \n",
    "  \n",
    "Our goal of collecting this dataset is to build a model capable of predicting \n",
    "the potential success of startups.\n",
    "\n",
    "    ## The Source of the Dataset \n",
    "\n",
    "Access the dataset on Kaggle through the following link: https://www.kaggle.com/datasets/manishkc06/startup-success-prediction\n",
    "\n",
    "    ## General Information about the Dataset\n",
    "\n",
    "Number of objects: 924 rows\n",
    "\n",
    "Number of attributes: 20 columns\n",
    "\n",
    "In this dataset, the class label we are focusing on is \"status\", which distinguishes between \n",
    "successful startups (labeled as \"acquired\") and unsuccessful ones (labeled as \"closed\").\n",
    "\n",
    "**************************************************************************************************"
   ]
  },
  {
   "cell_type": "code",
   "execution_count": 2,
   "id": "8a1a9546",
   "metadata": {},
   "outputs": [],
   "source": [
    "# Import the readr library\n",
    "library(readr)"
   ]
  },
  {
   "cell_type": "code",
   "execution_count": 3,
   "id": "a0d1f56a",
   "metadata": {},
   "outputs": [],
   "source": [
    "# Specify the dataset path\n",
    "dataset_path <- \"/Users/basmaalsulaim/Desktop/Dataset/StartupData.csv\""
   ]
  },
  {
   "cell_type": "code",
   "execution_count": 4,
   "id": "51e995f7",
   "metadata": {},
   "outputs": [
    {
     "name": "stderr",
     "output_type": "stream",
     "text": [
      "\u001b[1mRows: \u001b[22m\u001b[34m923\u001b[39m \u001b[1mColumns: \u001b[22m\u001b[34m20\u001b[39m\n",
      "\u001b[36m──\u001b[39m \u001b[1mColumn specification\u001b[22m \u001b[36m────────────────────────────────────────────────────────\u001b[39m\n",
      "\u001b[1mDelimiter:\u001b[22m \",\"\n",
      "\u001b[31mchr\u001b[39m  (8): name, city, founded_at, closed_at, first_funding_at, last_funding_...\n",
      "\u001b[32mdbl\u001b[39m (12): age_first_funding_year, age_first_milestone_year, funding_rounds, ...\n",
      "\n",
      "\u001b[36mℹ\u001b[39m Use `spec()` to retrieve the full column specification for this data.\n",
      "\u001b[36mℹ\u001b[39m Specify the column types or set `show_col_types = FALSE` to quiet this message.\n"
     ]
    }
   ],
   "source": [
    "# Load the dataset\n",
    "dataset <- read_csv(dataset_path)"
   ]
  },
  {
   "cell_type": "code",
   "execution_count": 5,
   "id": "08fa3be7",
   "metadata": {},
   "outputs": [
    {
     "data": {
      "text/html": [
       "<table class=\"dataframe\">\n",
       "<caption>A tibble: 6 × 20</caption>\n",
       "<thead>\n",
       "\t<tr><th scope=col>name</th><th scope=col>city</th><th scope=col>founded_at</th><th scope=col>closed_at</th><th scope=col>first_funding_at</th><th scope=col>last_funding_at</th><th scope=col>age_first_funding_year</th><th scope=col>age_first_milestone_year</th><th scope=col>funding_rounds</th><th scope=col>funding_total_usd</th><th scope=col>category_code</th><th scope=col>has_VC</th><th scope=col>has_angel</th><th scope=col>has_roundA</th><th scope=col>has_roundB</th><th scope=col>has_roundC</th><th scope=col>has_roundD</th><th scope=col>avg_participants</th><th scope=col>is_top500</th><th scope=col>status</th></tr>\n",
       "\t<tr><th scope=col>&lt;chr&gt;</th><th scope=col>&lt;chr&gt;</th><th scope=col>&lt;chr&gt;</th><th scope=col>&lt;chr&gt;</th><th scope=col>&lt;chr&gt;</th><th scope=col>&lt;chr&gt;</th><th scope=col>&lt;dbl&gt;</th><th scope=col>&lt;dbl&gt;</th><th scope=col>&lt;dbl&gt;</th><th scope=col>&lt;dbl&gt;</th><th scope=col>&lt;chr&gt;</th><th scope=col>&lt;dbl&gt;</th><th scope=col>&lt;dbl&gt;</th><th scope=col>&lt;dbl&gt;</th><th scope=col>&lt;dbl&gt;</th><th scope=col>&lt;dbl&gt;</th><th scope=col>&lt;dbl&gt;</th><th scope=col>&lt;dbl&gt;</th><th scope=col>&lt;dbl&gt;</th><th scope=col>&lt;chr&gt;</th></tr>\n",
       "</thead>\n",
       "<tbody>\n",
       "\t<tr><td>Bandsintown      </td><td>San Diego    </td><td>1/1/2007 </td><td>NA       </td><td>4/1/2009 </td><td>1/1/2010  </td><td>2.2493</td><td>4.6685</td><td>3</td><td>  375000</td><td>music          </td><td>0</td><td>1</td><td>0</td><td>0</td><td>0</td><td>0</td><td>1.0000</td><td>0</td><td>acquired</td></tr>\n",
       "\t<tr><td>TriCipher        </td><td>Los Gatos    </td><td>1/1/2000 </td><td>NA       </td><td>2/14/2005</td><td>12/28/2009</td><td>5.1260</td><td>7.0055</td><td>4</td><td>40100000</td><td>enterprise     </td><td>1</td><td>0</td><td>0</td><td>1</td><td>1</td><td>1</td><td>4.7500</td><td>1</td><td>acquired</td></tr>\n",
       "\t<tr><td>Plixi            </td><td>San Diego    </td><td>3/18/2009</td><td>NA       </td><td>3/30/2010</td><td>3/30/2010 </td><td>1.0329</td><td>1.4575</td><td>1</td><td> 2600000</td><td>web            </td><td>0</td><td>0</td><td>1</td><td>0</td><td>0</td><td>0</td><td>4.0000</td><td>1</td><td>acquired</td></tr>\n",
       "\t<tr><td>Solidcore Systems</td><td>Cupertino    </td><td>1/1/2002 </td><td>NA       </td><td>2/17/2005</td><td>4/25/2007 </td><td>3.1315</td><td>6.0027</td><td>3</td><td>40000000</td><td>software       </td><td>0</td><td>0</td><td>0</td><td>1</td><td>1</td><td>1</td><td>3.3333</td><td>1</td><td>acquired</td></tr>\n",
       "\t<tr><td>Inhale Digital   </td><td>San Francisco</td><td>8/1/2010 </td><td>10/1/2012</td><td>8/1/2010 </td><td>4/1/2012  </td><td>0.0000</td><td>0.0384</td><td>2</td><td> 1300000</td><td>games_video    </td><td>1</td><td>1</td><td>0</td><td>0</td><td>0</td><td>0</td><td>1.0000</td><td>1</td><td>closed  </td></tr>\n",
       "\t<tr><td>Matisse Networks </td><td>Mountain View</td><td>1/1/2002 </td><td>2/15/2009</td><td>7/18/2006</td><td>7/18/2006 </td><td>4.5452</td><td>5.0027</td><td>1</td><td> 7500000</td><td>network_hosting</td><td>0</td><td>0</td><td>0</td><td>1</td><td>0</td><td>0</td><td>3.0000</td><td>1</td><td>closed  </td></tr>\n",
       "</tbody>\n",
       "</table>\n"
      ],
      "text/latex": [
       "A tibble: 6 × 20\n",
       "\\begin{tabular}{llllllllllllllllllll}\n",
       " name & city & founded\\_at & closed\\_at & first\\_funding\\_at & last\\_funding\\_at & age\\_first\\_funding\\_year & age\\_first\\_milestone\\_year & funding\\_rounds & funding\\_total\\_usd & category\\_code & has\\_VC & has\\_angel & has\\_roundA & has\\_roundB & has\\_roundC & has\\_roundD & avg\\_participants & is\\_top500 & status\\\\\n",
       " <chr> & <chr> & <chr> & <chr> & <chr> & <chr> & <dbl> & <dbl> & <dbl> & <dbl> & <chr> & <dbl> & <dbl> & <dbl> & <dbl> & <dbl> & <dbl> & <dbl> & <dbl> & <chr>\\\\\n",
       "\\hline\n",
       "\t Bandsintown       & San Diego     & 1/1/2007  & NA        & 4/1/2009  & 1/1/2010   & 2.2493 & 4.6685 & 3 &   375000 & music           & 0 & 1 & 0 & 0 & 0 & 0 & 1.0000 & 0 & acquired\\\\\n",
       "\t TriCipher         & Los Gatos     & 1/1/2000  & NA        & 2/14/2005 & 12/28/2009 & 5.1260 & 7.0055 & 4 & 40100000 & enterprise      & 1 & 0 & 0 & 1 & 1 & 1 & 4.7500 & 1 & acquired\\\\\n",
       "\t Plixi             & San Diego     & 3/18/2009 & NA        & 3/30/2010 & 3/30/2010  & 1.0329 & 1.4575 & 1 &  2600000 & web             & 0 & 0 & 1 & 0 & 0 & 0 & 4.0000 & 1 & acquired\\\\\n",
       "\t Solidcore Systems & Cupertino     & 1/1/2002  & NA        & 2/17/2005 & 4/25/2007  & 3.1315 & 6.0027 & 3 & 40000000 & software        & 0 & 0 & 0 & 1 & 1 & 1 & 3.3333 & 1 & acquired\\\\\n",
       "\t Inhale Digital    & San Francisco & 8/1/2010  & 10/1/2012 & 8/1/2010  & 4/1/2012   & 0.0000 & 0.0384 & 2 &  1300000 & games\\_video     & 1 & 1 & 0 & 0 & 0 & 0 & 1.0000 & 1 & closed  \\\\\n",
       "\t Matisse Networks  & Mountain View & 1/1/2002  & 2/15/2009 & 7/18/2006 & 7/18/2006  & 4.5452 & 5.0027 & 1 &  7500000 & network\\_hosting & 0 & 0 & 0 & 1 & 0 & 0 & 3.0000 & 1 & closed  \\\\\n",
       "\\end{tabular}\n"
      ],
      "text/markdown": [
       "\n",
       "A tibble: 6 × 20\n",
       "\n",
       "| name &lt;chr&gt; | city &lt;chr&gt; | founded_at &lt;chr&gt; | closed_at &lt;chr&gt; | first_funding_at &lt;chr&gt; | last_funding_at &lt;chr&gt; | age_first_funding_year &lt;dbl&gt; | age_first_milestone_year &lt;dbl&gt; | funding_rounds &lt;dbl&gt; | funding_total_usd &lt;dbl&gt; | category_code &lt;chr&gt; | has_VC &lt;dbl&gt; | has_angel &lt;dbl&gt; | has_roundA &lt;dbl&gt; | has_roundB &lt;dbl&gt; | has_roundC &lt;dbl&gt; | has_roundD &lt;dbl&gt; | avg_participants &lt;dbl&gt; | is_top500 &lt;dbl&gt; | status &lt;chr&gt; |\n",
       "|---|---|---|---|---|---|---|---|---|---|---|---|---|---|---|---|---|---|---|---|\n",
       "| Bandsintown       | San Diego     | 1/1/2007  | NA        | 4/1/2009  | 1/1/2010   | 2.2493 | 4.6685 | 3 |   375000 | music           | 0 | 1 | 0 | 0 | 0 | 0 | 1.0000 | 0 | acquired |\n",
       "| TriCipher         | Los Gatos     | 1/1/2000  | NA        | 2/14/2005 | 12/28/2009 | 5.1260 | 7.0055 | 4 | 40100000 | enterprise      | 1 | 0 | 0 | 1 | 1 | 1 | 4.7500 | 1 | acquired |\n",
       "| Plixi             | San Diego     | 3/18/2009 | NA        | 3/30/2010 | 3/30/2010  | 1.0329 | 1.4575 | 1 |  2600000 | web             | 0 | 0 | 1 | 0 | 0 | 0 | 4.0000 | 1 | acquired |\n",
       "| Solidcore Systems | Cupertino     | 1/1/2002  | NA        | 2/17/2005 | 4/25/2007  | 3.1315 | 6.0027 | 3 | 40000000 | software        | 0 | 0 | 0 | 1 | 1 | 1 | 3.3333 | 1 | acquired |\n",
       "| Inhale Digital    | San Francisco | 8/1/2010  | 10/1/2012 | 8/1/2010  | 4/1/2012   | 0.0000 | 0.0384 | 2 |  1300000 | games_video     | 1 | 1 | 0 | 0 | 0 | 0 | 1.0000 | 1 | closed   |\n",
       "| Matisse Networks  | Mountain View | 1/1/2002  | 2/15/2009 | 7/18/2006 | 7/18/2006  | 4.5452 | 5.0027 | 1 |  7500000 | network_hosting | 0 | 0 | 0 | 1 | 0 | 0 | 3.0000 | 1 | closed   |\n",
       "\n"
      ],
      "text/plain": [
       "  name              city          founded_at closed_at first_funding_at\n",
       "1 Bandsintown       San Diego     1/1/2007   NA        4/1/2009        \n",
       "2 TriCipher         Los Gatos     1/1/2000   NA        2/14/2005       \n",
       "3 Plixi             San Diego     3/18/2009  NA        3/30/2010       \n",
       "4 Solidcore Systems Cupertino     1/1/2002   NA        2/17/2005       \n",
       "5 Inhale Digital    San Francisco 8/1/2010   10/1/2012 8/1/2010        \n",
       "6 Matisse Networks  Mountain View 1/1/2002   2/15/2009 7/18/2006       \n",
       "  last_funding_at age_first_funding_year age_first_milestone_year\n",
       "1 1/1/2010        2.2493                 4.6685                  \n",
       "2 12/28/2009      5.1260                 7.0055                  \n",
       "3 3/30/2010       1.0329                 1.4575                  \n",
       "4 4/25/2007       3.1315                 6.0027                  \n",
       "5 4/1/2012        0.0000                 0.0384                  \n",
       "6 7/18/2006       4.5452                 5.0027                  \n",
       "  funding_rounds funding_total_usd category_code   has_VC has_angel has_roundA\n",
       "1 3                375000          music           0      1         0         \n",
       "2 4              40100000          enterprise      1      0         0         \n",
       "3 1               2600000          web             0      0         1         \n",
       "4 3              40000000          software        0      0         0         \n",
       "5 2               1300000          games_video     1      1         0         \n",
       "6 1               7500000          network_hosting 0      0         0         \n",
       "  has_roundB has_roundC has_roundD avg_participants is_top500 status  \n",
       "1 0          0          0          1.0000           0         acquired\n",
       "2 1          1          1          4.7500           1         acquired\n",
       "3 0          0          0          4.0000           1         acquired\n",
       "4 1          1          1          3.3333           1         acquired\n",
       "5 0          0          0          1.0000           1         closed  \n",
       "6 1          0          0          3.0000           1         closed  "
      ]
     },
     "metadata": {},
     "output_type": "display_data"
    }
   ],
   "source": [
    "# View the first few rows of the dataset\n",
    "head(dataset)"
   ]
  },
  {
   "cell_type": "code",
   "execution_count": 6,
   "id": "01ec3f26",
   "metadata": {},
   "outputs": [
    {
     "data": {
      "text/plain": [
       "     name               city            founded_at         closed_at        \n",
       " Length:923         Length:923         Length:923         Length:923        \n",
       " Class :character   Class :character   Class :character   Class :character  \n",
       " Mode  :character   Mode  :character   Mode  :character   Mode  :character  \n",
       "                                                                            \n",
       "                                                                            \n",
       "                                                                            \n",
       "                                                                            \n",
       " first_funding_at   last_funding_at    age_first_funding_year\n",
       " Length:923         Length:923         Min.   :-9.0466       \n",
       " Class :character   Class :character   1st Qu.: 0.5767       \n",
       " Mode  :character   Mode  :character   Median : 1.4466       \n",
       "                                       Mean   : 2.2356       \n",
       "                                       3rd Qu.: 3.5753       \n",
       "                                       Max.   :21.8959       \n",
       "                                                             \n",
       " age_first_milestone_year funding_rounds   funding_total_usd  \n",
       " Min.   :-14.170          Min.   : 1.000   Min.   :1.100e+04  \n",
       " 1st Qu.:  1.000          1st Qu.: 1.000   1st Qu.:2.725e+06  \n",
       " Median :  2.521          Median : 2.000   Median :1.000e+07  \n",
       " Mean   :  3.055          Mean   : 2.311   Mean   :2.542e+07  \n",
       " 3rd Qu.:  4.686          3rd Qu.: 3.000   3rd Qu.:2.472e+07  \n",
       " Max.   : 24.685          Max.   :10.000   Max.   :5.700e+09  \n",
       " NA's   :152                                                  \n",
       " category_code          has_VC         has_angel        has_roundA    \n",
       " Length:923         Min.   :0.0000   Min.   :0.0000   Min.   :0.0000  \n",
       " Class :character   1st Qu.:0.0000   1st Qu.:0.0000   1st Qu.:0.0000  \n",
       " Mode  :character   Median :0.0000   Median :0.0000   Median :1.0000  \n",
       "                    Mean   :0.3261   Mean   :0.2546   Mean   :0.5081  \n",
       "                    3rd Qu.:1.0000   3rd Qu.:1.0000   3rd Qu.:1.0000  \n",
       "                    Max.   :1.0000   Max.   :1.0000   Max.   :1.0000  \n",
       "                                                                      \n",
       "   has_roundB       has_roundC       has_roundD      avg_participants\n",
       " Min.   :0.0000   Min.   :0.0000   Min.   :0.00000   Min.   : 1.000  \n",
       " 1st Qu.:0.0000   1st Qu.:0.0000   1st Qu.:0.00000   1st Qu.: 1.500  \n",
       " Median :0.0000   Median :0.0000   Median :0.00000   Median : 2.500  \n",
       " Mean   :0.3922   Mean   :0.2329   Mean   :0.09967   Mean   : 2.839  \n",
       " 3rd Qu.:1.0000   3rd Qu.:0.0000   3rd Qu.:0.00000   3rd Qu.: 3.800  \n",
       " Max.   :1.0000   Max.   :1.0000   Max.   :1.00000   Max.   :16.000  \n",
       "                                                                     \n",
       "   is_top500         status         \n",
       " Min.   :0.0000   Length:923        \n",
       " 1st Qu.:1.0000   Class :character  \n",
       " Median :1.0000   Mode  :character  \n",
       " Mean   :0.8093                     \n",
       " 3rd Qu.:1.0000                     \n",
       " Max.   :1.0000                     \n",
       "                                    "
      ]
     },
     "metadata": {},
     "output_type": "display_data"
    }
   ],
   "source": [
    "summary(dataset)"
   ]
  }
 ],
 "metadata": {
  "kernelspec": {
   "display_name": "R",
   "language": "R",
   "name": "ir"
  },
  "language_info": {
   "codemirror_mode": "r",
   "file_extension": ".r",
   "mimetype": "text/x-r-source",
   "name": "R",
   "pygments_lexer": "r",
   "version": "4.2.3"
  }
 },
 "nbformat": 4,
 "nbformat_minor": 5
}
